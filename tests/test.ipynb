{
 "cells": [
  {
   "cell_type": "code",
   "execution_count": 1,
   "metadata": {},
   "outputs": [
    {
     "name": "stdout",
     "output_type": "stream",
     "text": [
      "d:\\Dang_project\\FPTU_FA24_EEG_Artifacts_Recognition\\tests\n",
      "2024-11-19 13:45:00,962: INFO: config: TensorFlow version 2.18.0 available.\n"
     ]
    },
    {
     "name": "stderr",
     "output_type": "stream",
     "text": [
      "d:\\Dang_project\\FPTU_FA24_EEG_Artifacts_Recognition\\thesis\\lib\\site-packages\\tqdm\\auto.py:21: TqdmWarning: IProgress not found. Please update jupyter and ipywidgets. See https://ipywidgets.readthedocs.io/en/stable/user_install.html\n",
      "  from .autonotebook import tqdm as notebook_tqdm\n"
     ]
    },
    {
     "name": "stdout",
     "output_type": "stream",
     "text": [
      "2024-11-19 13:45:03,441: INFO: common: yaml file 'D:\\Dang_project\\FPTU_FA24_EEG_Artifacts_Recognition\\config\\config.yaml' loaded successfully\n",
      "2024-11-19 13:45:03,448: INFO: common: yaml file 'D:\\Dang_project\\FPTU_FA24_EEG_Artifacts_Recognition\\config\\params.yaml' loaded successfully\n",
      "2024-11-19 13:45:03,448: INFO: common: yaml file 'D:\\Dang_project\\FPTU_FA24_EEG_Artifacts_Recognition\\config\\dataset.yaml' loaded successfully\n"
     ]
    }
   ],
   "source": [
    "from FPTU_FA24_EEG_Artifacts_Recognition.config import *\n",
    "from FPTU_FA24_EEG_Artifacts_Recognition.pipeline import *\n",
    "\n",
    "CONFIG_FILE_PATH = Path(r'D:\\Dang_project\\FPTU_FA24_EEG_Artifacts_Recognition\\config\\config.yaml')\n",
    "PARAMS_FILE_PATH = Path(r'D:\\Dang_project\\FPTU_FA24_EEG_Artifacts_Recognition\\config\\params.yaml')\n",
    "DATASET_DETAIL_FILE_PATH = Path(r'D:\\Dang_project\\FPTU_FA24_EEG_Artifacts_Recognition\\config\\dataset.yaml')\n",
    "\n",
    "config_manager = ConfigurationManager(\n",
    "    CONFIG_FILE_PATH,\n",
    "    PARAMS_FILE_PATH,\n",
    "    DATASET_DETAIL_FILE_PATH\n",
    ")"
   ]
  },
  {
   "cell_type": "code",
   "execution_count": 5,
   "metadata": {},
   "outputs": [],
   "source": [
    "path = Path(os.path.join(\n",
    "    dataset_config.output_data_path, 'left'\n",
    "))"
   ]
  },
  {
   "cell_type": "code",
   "execution_count": 15,
   "metadata": {},
   "outputs": [
    {
     "data": {
      "text/plain": [
       "(TensorShape([1834, 64, 4]),\n",
       " TensorShape([1834, 64, 4]),\n",
       " TensorShape([1834, 64, 4]))"
      ]
     },
     "execution_count": 15,
     "metadata": {},
     "output_type": "execute_result"
    }
   ],
   "source": [
    "ds = datasets.Dataset.load_from_disk(r'D:\\Dang_project\\FPTU_FA24_EEG_Artifacts_Recognition\\artifacts\\transform_data\\left')\n",
    "ds.set_format('tf')\n",
    "ds['left'].shape, ds['right'].shape, ds['both'].shape"
   ]
  },
  {
   "cell_type": "code",
   "execution_count": 10,
   "metadata": {},
   "outputs": [
    {
     "data": {
      "text/plain": [
       "TensorShape([1834, 64, 4])"
      ]
     },
     "execution_count": 10,
     "metadata": {},
     "output_type": "execute_result"
    }
   ],
   "source": []
  },
  {
   "cell_type": "code",
   "execution_count": 14,
   "metadata": {},
   "outputs": [
    {
     "data": {
      "text/plain": [
       "TensorShape([1834, 4, 64, 1])"
      ]
     },
     "execution_count": 14,
     "metadata": {},
     "output_type": "execute_result"
    }
   ],
   "source": [
    "tf.expand_dims(tf.transpose(ds['left'], (0, 2, 1)), -1).shape"
   ]
  }
 ],
 "metadata": {
  "kernelspec": {
   "display_name": "thesis",
   "language": "python",
   "name": "python3"
  },
  "language_info": {
   "codemirror_mode": {
    "name": "ipython",
    "version": 3
   },
   "file_extension": ".py",
   "mimetype": "text/x-python",
   "name": "python",
   "nbconvert_exporter": "python",
   "pygments_lexer": "ipython3",
   "version": "3.10.11"
  }
 },
 "nbformat": 4,
 "nbformat_minor": 2
}
