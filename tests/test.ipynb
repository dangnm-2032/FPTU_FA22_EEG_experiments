{
 "cells": [
  {
   "cell_type": "code",
   "execution_count": 1,
   "metadata": {},
   "outputs": [
    {
     "name": "stdout",
     "output_type": "stream",
     "text": [
      "/home/yuuhanase/workspace/FPTU_FA24_EEG_Artifacts_Recognition\n"
     ]
    },
    {
     "name": "stderr",
     "output_type": "stream",
     "text": [
      "/home/yuuhanase/workspace/FPTU_FA24_EEG_Artifacts_Recognition/thesis/lib/python3.10/site-packages/IPython/core/magics/osm.py:417: UserWarning: This is now an optional IPython functionality, setting dhist requires you to install the `pickleshare` library.\n",
      "  self.shell.db['dhist'] = compress_dhist(dhist)[-100:]\n"
     ]
    }
   ],
   "source": [
    "%cd .."
   ]
  },
  {
   "cell_type": "code",
   "execution_count": 2,
   "metadata": {},
   "outputs": [
    {
     "name": "stdout",
     "output_type": "stream",
     "text": [
      "/home/yuuhanase/workspace/FPTU_FA24_EEG_Artifacts_Recognition\n",
      "2024-11-23 20:42:45,238: INFO: config: TensorFlow version 2.18.0 available.\n"
     ]
    },
    {
     "name": "stderr",
     "output_type": "stream",
     "text": [
      "/home/yuuhanase/workspace/FPTU_FA24_EEG_Artifacts_Recognition/thesis/lib/python3.10/site-packages/tqdm/auto.py:21: TqdmWarning: IProgress not found. Please update jupyter and ipywidgets. See https://ipywidgets.readthedocs.io/en/stable/user_install.html\n",
      "  from .autonotebook import tqdm as notebook_tqdm\n",
      "2024-11-23 20:42:45.509792: I tensorflow/core/util/port.cc:153] oneDNN custom operations are on. You may see slightly different numerical results due to floating-point round-off errors from different computation orders. To turn them off, set the environment variable `TF_ENABLE_ONEDNN_OPTS=0`.\n",
      "2024-11-23 20:42:45.516839: E external/local_xla/xla/stream_executor/cuda/cuda_fft.cc:477] Unable to register cuFFT factory: Attempting to register factory for plugin cuFFT when one has already been registered\n",
      "WARNING: All log messages before absl::InitializeLog() is called are written to STDERR\n",
      "E0000 00:00:1732369365.525178   61902 cuda_dnn.cc:8310] Unable to register cuDNN factory: Attempting to register factory for plugin cuDNN when one has already been registered\n",
      "E0000 00:00:1732369365.527603   61902 cuda_blas.cc:1418] Unable to register cuBLAS factory: Attempting to register factory for plugin cuBLAS when one has already been registered\n",
      "2024-11-23 20:42:45.536440: I tensorflow/core/platform/cpu_feature_guard.cc:210] This TensorFlow binary is optimized to use available CPU instructions in performance-critical operations.\n",
      "To enable the following instructions: AVX2 AVX_VNNI FMA, in other operations, rebuild TensorFlow with the appropriate compiler flags.\n"
     ]
    }
   ],
   "source": [
    "from FPTU_FA24_EEG_Artifacts_Recognition.config import *\n",
    "from FPTU_FA24_EEG_Artifacts_Recognition.utils import *"
   ]
  },
  {
   "cell_type": "code",
   "execution_count": 3,
   "metadata": {},
   "outputs": [
    {
     "name": "stdout",
     "output_type": "stream",
     "text": [
      "2024-11-23 20:42:46,151: INFO: common: yaml file 'config/config.yaml' loaded successfully\n",
      "2024-11-23 20:42:46,153: INFO: common: yaml file 'config/params.yaml' loaded successfully\n",
      "2024-11-23 20:42:46,154: INFO: common: yaml file 'config/dataset.yaml' loaded successfully\n"
     ]
    }
   ],
   "source": [
    "CONFIG_FILE_PATH = Path(r'./config/config.yaml')\n",
    "PARAMS_FILE_PATH = Path(r'./config/params.yaml')\n",
    "DATASET_DETAIL_FILE_PATH = Path(r'./config/dataset.yaml')\n",
    "\n",
    "config_manager = ConfigurationManager(\n",
    "    CONFIG_FILE_PATH,\n",
    "    PARAMS_FILE_PATH,\n",
    "    DATASET_DETAIL_FILE_PATH\n",
    ")"
   ]
  },
  {
   "cell_type": "code",
   "execution_count": 4,
   "metadata": {},
   "outputs": [],
   "source": [
    "config = config_manager.get_dataset_config()\n",
    "\n",
    "big_df = {\n",
    "    'left': [],\n",
    "    'right': [],\n",
    "    'both': [],\n",
    "    'teeth': [],\n",
    "    'eyebrows': [],\n",
    "}\n",
    "\n",
    "for idx, label, position, trial in itter_dataset_file(config):\n",
    "    filepath = config.filepath_format.format_map(\n",
    "        {\n",
    "            'subject_id': idx,\n",
    "            'label': label,\n",
    "            'position': position,\n",
    "            'trial': trial\n",
    "        }\n",
    "    )\n",
    "\n",
    "    raw_roi_filepath = Path(\n",
    "        os.path.join(config.raw_roi_path, filepath)\n",
    "    )\n",
    "\n",
    "    label_df = pd.read_csv(raw_roi_filepath)\n",
    "    label_df['interval'] = label_df['ROILimits_2'] - label_df['ROILimits_1']\n",
    "    \n",
    "    if True in (label_df['interval'] == 0).to_list():\n",
    "        print(idx, label, position, trial)\n",
    "    big_df[label].append(label_df)"
   ]
  },
  {
   "cell_type": "code",
   "execution_count": 5,
   "metadata": {},
   "outputs": [],
   "source": [
    "for label in big_df:\n",
    "    big_df[label] = pd.concat(big_df[label]).reset_index().drop(columns=['index'])"
   ]
  },
  {
   "cell_type": "code",
   "execution_count": 6,
   "metadata": {},
   "outputs": [
    {
     "name": "stdout",
     "output_type": "stream",
     "text": [
      "############# left #############\n",
      "count    2.648438\n",
      "mean     0.534425\n",
      "std      0.132329\n",
      "min      0.281250\n",
      "25%      0.445312\n",
      "50%      0.500000\n",
      "75%      0.593750\n",
      "max      1.171875\n",
      "Name: interval, dtype: float64\n",
      "############# right #############\n",
      "count    2.589844\n",
      "mean     0.494438\n",
      "std      0.182593\n",
      "min      0.218750\n",
      "25%      0.382812\n",
      "50%      0.449219\n",
      "75%      0.531250\n",
      "max      1.449219\n",
      "Name: interval, dtype: float64\n",
      "############# both #############\n",
      "count    2.621094\n",
      "mean     0.371513\n",
      "std      0.097086\n",
      "min      0.128906\n",
      "25%      0.294922\n",
      "50%      0.347656\n",
      "75%      0.445312\n",
      "max      0.703125\n",
      "Name: interval, dtype: float64\n",
      "############# teeth #############\n",
      "count    2.664062\n",
      "mean     0.356479\n",
      "std      0.092866\n",
      "min      0.171875\n",
      "25%      0.285156\n",
      "50%      0.343750\n",
      "75%      0.416992\n",
      "max      0.703125\n",
      "Name: interval, dtype: float64\n",
      "############# eyebrows #############\n",
      "count    2.601562\n",
      "mean     0.489347\n",
      "std      0.240961\n",
      "min      0.171875\n",
      "25%      0.250000\n",
      "50%      0.496094\n",
      "75%      0.687500\n",
      "max      1.074219\n",
      "Name: interval, dtype: float64\n"
     ]
    }
   ],
   "source": [
    "for label in big_df:\n",
    "    print(f'############# {label} #############')\n",
    "    print(big_df[label].describe()['interval']/256)"
   ]
  },
  {
   "cell_type": "code",
   "execution_count": 9,
   "metadata": {},
   "outputs": [],
   "source": [
    "config = config_manager.get_dataset_config()\n",
    "\n",
    "big_df = {\n",
    "    'left': [],\n",
    "    'right': [],\n",
    "    'both': [],\n",
    "    'teeth': [],\n",
    "    'eyebrows': [],\n",
    "}\n",
    "\n",
    "for idx, label, position, trial in itter_dataset_file(config):\n",
    "    filepath = config.filepath_format.format_map(\n",
    "        {\n",
    "            'subject_id': idx,\n",
    "            'label': label,\n",
    "            'position': position,\n",
    "            'trial': trial\n",
    "        }\n",
    "    )\n",
    "\n",
    "    raw_data_filepath = Path(\n",
    "        os.path.join(config.raw_data_path, filepath)\n",
    "    )\n",
    "\n",
    "    data_df = pd.read_csv(raw_data_filepath)\n",
    "\n",
    "    big_df[label].append(len(data_df))"
   ]
  },
  {
   "cell_type": "code",
   "execution_count": 10,
   "metadata": {},
   "outputs": [
    {
     "data": {
      "text/html": [
       "<div>\n",
       "<style scoped>\n",
       "    .dataframe tbody tr th:only-of-type {\n",
       "        vertical-align: middle;\n",
       "    }\n",
       "\n",
       "    .dataframe tbody tr th {\n",
       "        vertical-align: top;\n",
       "    }\n",
       "\n",
       "    .dataframe thead th {\n",
       "        text-align: right;\n",
       "    }\n",
       "</style>\n",
       "<table border=\"1\" class=\"dataframe\">\n",
       "  <thead>\n",
       "    <tr style=\"text-align: right;\">\n",
       "      <th></th>\n",
       "      <th>left</th>\n",
       "      <th>right</th>\n",
       "      <th>both</th>\n",
       "      <th>teeth</th>\n",
       "      <th>eyebrows</th>\n",
       "    </tr>\n",
       "  </thead>\n",
       "  <tbody>\n",
       "    <tr>\n",
       "      <th>count</th>\n",
       "      <td>0.273438</td>\n",
       "      <td>0.273438</td>\n",
       "      <td>0.273438</td>\n",
       "      <td>0.273438</td>\n",
       "      <td>0.273438</td>\n",
       "    </tr>\n",
       "    <tr>\n",
       "      <th>mean</th>\n",
       "      <td>28.422768</td>\n",
       "      <td>26.488114</td>\n",
       "      <td>28.208036</td>\n",
       "      <td>25.987444</td>\n",
       "      <td>26.487946</td>\n",
       "    </tr>\n",
       "    <tr>\n",
       "      <th>std</th>\n",
       "      <td>5.593433</td>\n",
       "      <td>4.088354</td>\n",
       "      <td>6.630790</td>\n",
       "      <td>5.403029</td>\n",
       "      <td>4.177586</td>\n",
       "    </tr>\n",
       "    <tr>\n",
       "      <th>min</th>\n",
       "      <td>25.125000</td>\n",
       "      <td>20.109375</td>\n",
       "      <td>20.109375</td>\n",
       "      <td>20.109375</td>\n",
       "      <td>20.109375</td>\n",
       "    </tr>\n",
       "    <tr>\n",
       "      <th>25%</th>\n",
       "      <td>25.125000</td>\n",
       "      <td>25.125000</td>\n",
       "      <td>25.125000</td>\n",
       "      <td>25.125000</td>\n",
       "      <td>25.125000</td>\n",
       "    </tr>\n",
       "    <tr>\n",
       "      <th>50%</th>\n",
       "      <td>25.125000</td>\n",
       "      <td>25.125000</td>\n",
       "      <td>25.125000</td>\n",
       "      <td>25.125000</td>\n",
       "      <td>25.125000</td>\n",
       "    </tr>\n",
       "    <tr>\n",
       "      <th>75%</th>\n",
       "      <td>30.140625</td>\n",
       "      <td>25.139648</td>\n",
       "      <td>30.140625</td>\n",
       "      <td>25.125000</td>\n",
       "      <td>25.125000</td>\n",
       "    </tr>\n",
       "    <tr>\n",
       "      <th>max</th>\n",
       "      <td>50.203125</td>\n",
       "      <td>40.171875</td>\n",
       "      <td>50.203125</td>\n",
       "      <td>50.250000</td>\n",
       "      <td>40.203125</td>\n",
       "    </tr>\n",
       "  </tbody>\n",
       "</table>\n",
       "</div>"
      ],
      "text/plain": [
       "            left      right       both      teeth   eyebrows\n",
       "count   0.273438   0.273438   0.273438   0.273438   0.273438\n",
       "mean   28.422768  26.488114  28.208036  25.987444  26.487946\n",
       "std     5.593433   4.088354   6.630790   5.403029   4.177586\n",
       "min    25.125000  20.109375  20.109375  20.109375  20.109375\n",
       "25%    25.125000  25.125000  25.125000  25.125000  25.125000\n",
       "50%    25.125000  25.125000  25.125000  25.125000  25.125000\n",
       "75%    30.140625  25.139648  30.140625  25.125000  25.125000\n",
       "max    50.203125  40.171875  50.203125  50.250000  40.203125"
      ]
     },
     "execution_count": 10,
     "metadata": {},
     "output_type": "execute_result"
    }
   ],
   "source": [
    "big_df = pd.DataFrame(big_df)\n",
    "big_df.describe()/256"
   ]
  },
  {
   "cell_type": "code",
   "execution_count": 11,
   "metadata": {},
   "outputs": [
    {
     "data": {
      "text/plain": [
       "left        1989.593750\n",
       "right       1854.167969\n",
       "both        1974.562500\n",
       "teeth       1819.121094\n",
       "eyebrows    1854.156250\n",
       "dtype: float64"
      ]
     },
     "execution_count": 11,
     "metadata": {},
     "output_type": "execute_result"
    }
   ],
   "source": [
    "big_df.sum()/256"
   ]
  }
 ],
 "metadata": {
  "kernelspec": {
   "display_name": "thesis",
   "language": "python",
   "name": "python3"
  },
  "language_info": {
   "codemirror_mode": {
    "name": "ipython",
    "version": 3
   },
   "file_extension": ".py",
   "mimetype": "text/x-python",
   "name": "python",
   "nbconvert_exporter": "python",
   "pygments_lexer": "ipython3",
   "version": "3.10.11"
  }
 },
 "nbformat": 4,
 "nbformat_minor": 2
}
