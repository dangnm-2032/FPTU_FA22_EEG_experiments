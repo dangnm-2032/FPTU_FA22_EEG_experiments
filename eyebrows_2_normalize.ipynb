{
 "cells": [
  {
   "cell_type": "code",
   "execution_count": 7,
   "metadata": {},
   "outputs": [],
   "source": [
    "import pandas as pd \n",
    "from sklearn.preprocessing import StandardScaler, MinMaxScaler"
   ]
  },
  {
   "cell_type": "code",
   "execution_count": 8,
   "metadata": {},
   "outputs": [],
   "source": [
    "label_name = 'eyebrows'\n",
    "filtered_data = [\n",
    "    f'filtered_data/{label_name}/{label_name}_1.csv',\n",
    "    f'filtered_data/{label_name}/{label_name}_2.csv',\n",
    "    f'filtered_data/{label_name}/{label_name}_3.csv',\n",
    "    f'filtered_data/{label_name}/{label_name}_4.csv',\n",
    "    f'filtered_data/{label_name}/{label_name}_5.csv',\n",
    "    f'filtered_data/{label_name}/{label_name}_6.csv',\n",
    "    f'filtered_data/{label_name}/{label_name}_7.csv',\n",
    "    f'filtered_data/{label_name}/{label_name}_8.csv',\n",
    "    f'filtered_data/{label_name}/{label_name}_9.csv',\n",
    "    f'filtered_data/{label_name}/{label_name}_10.csv',\n",
    "]"
   ]
  },
  {
   "cell_type": "code",
   "execution_count": 9,
   "metadata": {},
   "outputs": [],
   "source": [
    "dfs = []\n",
    "for input_path in filtered_data:\n",
    "    dfs.append(pd.read_csv(input_path).drop(columns=['Unnamed: 0']))\n",
    "big_df = pd.concat(dfs)"
   ]
  },
  {
   "cell_type": "code",
   "execution_count": 10,
   "metadata": {},
   "outputs": [
    {
     "data": {
      "text/plain": [
       "['checkpoints/eyebrows/scaler.save']"
      ]
     },
     "execution_count": 10,
     "metadata": {},
     "output_type": "execute_result"
    }
   ],
   "source": [
    "scaler = MinMaxScaler()\n",
    "scaler.fit(big_df)\n",
    "\n",
    "import joblib\n",
    "scaler_filename = f\"checkpoints/{label_name}/scaler.save\"\n",
    "joblib.dump(scaler, scaler_filename) "
   ]
  },
  {
   "cell_type": "code",
   "execution_count": 11,
   "metadata": {},
   "outputs": [],
   "source": [
    "for i, df in enumerate(dfs):\n",
    "    normalized_data = scaler.transform(df)\n",
    "    pd.DataFrame(normalized_data, columns=df.columns).to_csv(rf'.\\normalized_data\\{label_name}\\{label_name}_{i+1}.csv')"
   ]
  }
 ],
 "metadata": {
  "kernelspec": {
   "display_name": "thesis",
   "language": "python",
   "name": "python3"
  },
  "language_info": {
   "codemirror_mode": {
    "name": "ipython",
    "version": 3
   },
   "file_extension": ".py",
   "mimetype": "text/x-python",
   "name": "python",
   "nbconvert_exporter": "python",
   "pygments_lexer": "ipython3",
   "version": "3.10.11"
  }
 },
 "nbformat": 4,
 "nbformat_minor": 2
}
